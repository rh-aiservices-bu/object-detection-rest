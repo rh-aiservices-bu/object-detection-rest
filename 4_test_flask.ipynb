{
 "cells": [
  {
   "cell_type": "markdown",
   "metadata": {},
   "source": [
    "## Test Flask App\n",
    "From the another notebook (such as `run_flask.ipynb`), you can run the flask app in a cell and test it from here using python http or `curl` statements.\n",
    "\n",
    "```python\n",
    "# run_flask.ipynb\n",
    "!FLASK_APP=wsgi.py flask run\n",
    "```"
   ]
  },
  {
   "cell_type": "code",
   "execution_count": null,
   "metadata": {},
   "outputs": [],
   "source": [
    "import os\n",
    "\n",
    "# image file location.\n",
    "my_image = 'twodogs.jpg'\n",
    "\n",
    "# route to host\n",
    "my_route = 'http://localhost:5000'\n",
    "\n",
    "\n",
    "os.environ[\"MY_IMAGE\"] = my_image\n",
    "os.environ[\"MY_ROUTE\"] = my_route"
   ]
  },
  {
   "cell_type": "code",
   "execution_count": null,
   "metadata": {},
   "outputs": [],
   "source": [
    "!curl \"${MY_ROUTE}/status\""
   ]
  },
  {
   "cell_type": "code",
   "execution_count": null,
   "metadata": {
    "tags": []
   },
   "outputs": [],
   "source": [
    "!(echo -n '{\"image\": \"'; base64 \"${MY_IMAGE}\"; echo '\"}') | curl -X POST -H \"Content-Type: application/json\" -d @- ${MY_ROUTE}/predictions"
   ]
  },
  {
   "cell_type": "code",
   "execution_count": null,
   "metadata": {
    "tags": []
   },
   "outputs": [],
   "source": [
    "import base64\n",
    "from json import dumps\n",
    "\n",
    "import requests\n",
    "\n",
    "\n",
    "with open(my_image, \"rb\") as image_file:\n",
    "    encoded_image = base64.b64encode(image_file.read()).decode('utf-8')\n",
    "content = {\"image\": encoded_image}\n",
    "json_data = dumps(content)\n",
    "\n",
    "headers = {\"Content-Type\": \"application/json\"}\n",
    "\n",
    "response = requests.post(my_route + '/predictions', data=json_data, headers=headers)\n",
    "result = response.json()\n",
    "\n",
    "result"
   ]
  },
  {
   "cell_type": "code",
   "execution_count": null,
   "metadata": {},
   "outputs": [],
   "source": [
    "import numpy as np\n",
    "from PIL import Image\n",
    "from PIL import ImageColor\n",
    "from PIL import ImageDraw\n",
    "from PIL import ImageFont\n",
    "\n",
    "\n",
    "def display_image(image):\n",
    "    plt.figure(figsize=(10, 10))\n",
    "    plt.grid(False)\n",
    "    plt.imshow(image)\n",
    "\n",
    "\n",
    "def draw_bounding_box_on_image(image,\n",
    "                               ymin,\n",
    "                               xmin,\n",
    "                               ymax,\n",
    "                               xmax,\n",
    "                               color,\n",
    "                               font,\n",
    "                               thickness=4,\n",
    "                               display_str_list=()):\n",
    "    \"\"\"Adds a bounding box to an image.\"\"\"\n",
    "    draw = ImageDraw.Draw(image)\n",
    "    im_width, im_height = image.size\n",
    "    (left, right, top, bottom) = (xmin * im_width, xmax * im_width,\n",
    "                                  ymin * im_height, ymax * im_height)\n",
    "    draw.line([(left, top), (left, bottom), (right, bottom), (right, top),\n",
    "               (left, top)], width=thickness, fill=color)\n",
    "\n",
    "    display_str_heights = [font.getsize(ds)[1] for ds in display_str_list]\n",
    "    total_display_str_height = (1 + 2 * 0.05) * sum(display_str_heights)\n",
    "    if top > total_display_str_height:\n",
    "        text_bottom = top\n",
    "    else:\n",
    "        text_bottom = top + total_display_str_height\n",
    "\n",
    "    for display_str in display_str_list[::-1]:\n",
    "        text_width, text_height = font.getsize(display_str)\n",
    "        margin = np.ceil(0.05 * text_height)\n",
    "        draw.rectangle([(left, text_bottom - text_height - 2 * margin),\n",
    "                        (left + text_width, text_bottom)], fill=color)\n",
    "        draw.text((left + margin, text_bottom - text_height - margin),\n",
    "                  display_str, fill=\"black\", font=font)\n",
    "        text_bottom -= text_height - 2 * margin\n",
    "\n",
    "\n",
    "def draw_boxes(image, detections):\n",
    "    \"\"\"Overlay labeled boxes on an image with formatted scores and label names.\"\"\"\n",
    "    colors = list(ImageColor.colormap.values())\n",
    "    class_colors = {}\n",
    "    font = ImageFont.load_default()\n",
    "    image_pil = Image.open(image)\n",
    "\n",
    "    for d in detections:\n",
    "        display_str = \"{}: {}%\".format(d['class'], int(100 * d['score']))\n",
    "        if not class_colors.get(d['class']):\n",
    "            class_colors[d['class']] = colors[hash(d['class']) % len(colors)]\n",
    "        color = class_colors.get(d['class'])\n",
    "        draw_bounding_box_on_image(\n",
    "            image_pil,\n",
    "            d['box']['yMin'],\n",
    "            d['box']['xMin'],\n",
    "            d['box']['yMax'],\n",
    "            d['box']['xMax'],\n",
    "            color,\n",
    "            font,\n",
    "            display_str_list=[display_str])\n",
    "    return image_pil\n",
    "\n",
    "\n",
    "draw_boxes(my_image, result['detections'])"
   ]
  },
  {
   "cell_type": "markdown",
   "metadata": {
    "tags": []
   },
   "source": [
    "Now that our application is running and making predictions as expected, you can go back to the workshop instructions to see how we integrate this into an App with a user interface."
   ]
  }
 ],
 "metadata": {
  "accelerator": "GPU",
  "colab": {
   "collapsed_sections": [],
   "name": "Object detection",
   "private_outputs": true,
   "provenance": [],
   "toc_visible": true
  },
  "kernelspec": {
   "display_name": "Python 3 (ipykernel)",
   "language": "python",
   "name": "python3"
  },
  "language_info": {
   "codemirror_mode": {
    "name": "ipython",
    "version": 3
   },
   "file_extension": ".py",
   "mimetype": "text/x-python",
   "name": "python",
   "nbconvert_exporter": "python",
   "pygments_lexer": "ipython3",
   "version": "3.8.8"
  }
 },
 "nbformat": 4,
 "nbformat_minor": 4
}
